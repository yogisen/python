{
 "cells": [
  {
   "cell_type": "markdown",
   "metadata": {},
   "source": [
    "### definition"
   ]
  },
  {
   "cell_type": "code",
   "execution_count": 2,
   "metadata": {},
   "outputs": [],
   "source": [
    "liste_de_nombres = [1, 2, 3, 7, 8, 9]\n",
    "liste_mixe = ['Pierre', 2, 'Paul', 3.5]\n",
    "listes_imbriques = [1, 2, [3, 4]]"
   ]
  },
  {
   "cell_type": "markdown",
   "metadata": {},
   "source": [
    "#### compter les elements d'une liste"
   ]
  },
  {
   "cell_type": "code",
   "execution_count": 4,
   "metadata": {},
   "outputs": [
    {
     "name": "stdout",
     "output_type": "stream",
     "text": [
      "6\n"
     ]
    }
   ],
   "source": [
    "longueur = len(liste_de_nombres)\n",
    "print(longueur)"
   ]
  },
  {
   "cell_type": "markdown",
   "metadata": {},
   "source": [
    "### Compter le nombre d'occurence d'une valeur dans une liste\n"
   ]
  },
  {
   "cell_type": "code",
   "execution_count": 7,
   "metadata": {},
   "outputs": [
    {
     "name": "stdout",
     "output_type": "stream",
     "text": [
      "2\n"
     ]
    }
   ],
   "source": [
    "liste_employes = ['Paul', 'Pierre', 'Paul', 'Kevin']\n",
    "pauls = liste_employes.count('Paul')\n",
    "print(pauls)"
   ]
  },
  {
   "cell_type": "markdown",
   "metadata": {},
   "source": [
    "### ajouter"
   ]
  },
  {
   "cell_type": "code",
   "execution_count": 8,
   "metadata": {},
   "outputs": [],
   "source": [
    "liste = ['Pierre', 'Paul']\n",
    "\n",
    "# Rajoute l'élément à la fin de la liste\n",
    "liste.append('Jacques')\n",
    "\n",
    "# Insérer un élément à une position définie dans la liste\n",
    "liste.insert(1, 'Kevin')\n",
    "\n",
    "# Fusionne la liste ajoutée à la liste existante\n",
    "liste.extend(['Bertrand', 'John'])\n"
   ]
  },
  {
   "cell_type": "markdown",
   "metadata": {},
   "source": [
    "### retirer"
   ]
  },
  {
   "cell_type": "code",
   "execution_count": 10,
   "metadata": {},
   "outputs": [
    {
     "ename": "IndexError",
     "evalue": "pop index out of range",
     "output_type": "error",
     "traceback": [
      "\u001b[1;31m---------------------------------------------------------------------------\u001b[0m",
      "\u001b[1;31mIndexError\u001b[0m                                Traceback (most recent call last)",
      "\u001b[1;32m<ipython-input-10-a4d4b8b3b624>\u001b[0m in \u001b[0;36m<module>\u001b[1;34m()\u001b[0m\n\u001b[0;32m      6\u001b[0m \u001b[1;31m# Enlève l'élément situé à l'indice 1\u001b[0m\u001b[1;33m\u001b[0m\u001b[1;33m\u001b[0m\u001b[0m\n\u001b[0;32m      7\u001b[0m \u001b[1;31m# Et retourne l'élément supprimé dans la variable element_enleve (ici: 'Paul')\u001b[0m\u001b[1;33m\u001b[0m\u001b[1;33m\u001b[0m\u001b[0m\n\u001b[1;32m----> 8\u001b[1;33m \u001b[0melement_enleve\u001b[0m \u001b[1;33m=\u001b[0m \u001b[0mliste\u001b[0m\u001b[1;33m.\u001b[0m\u001b[0mpop\u001b[0m\u001b[1;33m(\u001b[0m\u001b[1;36m2\u001b[0m\u001b[1;33m)\u001b[0m\u001b[1;33m\u001b[0m\u001b[0m\n\u001b[0m\u001b[0;32m      9\u001b[0m \u001b[1;33m\u001b[0m\u001b[0m\n\u001b[0;32m     10\u001b[0m \u001b[1;31m# Enlève l'élément situé à l'indice 0 (ici: 'Pierre')\u001b[0m\u001b[1;33m\u001b[0m\u001b[1;33m\u001b[0m\u001b[0m\n",
      "\u001b[1;31mIndexError\u001b[0m: pop index out of range"
     ]
    }
   ],
   "source": [
    "liste = ['Pierre', 'Paul']\n",
    "\n",
    "# Enlève l'élément 'Pierre'\n",
    "liste.remove('Pierre')\n",
    "\n",
    "# Enlève l'élément situé à l'indice 1\n",
    "# Et retourne l'élément supprimé dans la variable element_enleve (ici: 'Paul')\n",
    "element_enleve = liste.pop(2)\n",
    "\n",
    "# Enlève l'élément situé à l'indice 0 (ici: 'Pierre')\n",
    "del liste[0]"
   ]
  },
  {
   "cell_type": "markdown",
   "metadata": {},
   "source": [
    "### trouver elements"
   ]
  },
  {
   "cell_type": "code",
   "execution_count": 13,
   "metadata": {},
   "outputs": [
    {
     "name": "stdout",
     "output_type": "stream",
     "text": [
      "Un de vos employe se nomme Pierre\n"
     ]
    }
   ],
   "source": [
    "liste_employes = ['Pierre', 'Paul', 'Jacques']\n",
    "\n",
    "if 'Pierre' in liste_employes:\n",
    "\tprint('Un de vos employe se nomme Pierre')"
   ]
  },
  {
   "cell_type": "markdown",
   "metadata": {},
   "source": [
    "### iterations"
   ]
  },
  {
   "cell_type": "code",
   "execution_count": 14,
   "metadata": {},
   "outputs": [
    {
     "name": "stdout",
     "output_type": "stream",
     "text": [
      "Pierre\n",
      "Paul\n",
      "Jacques\n"
     ]
    }
   ],
   "source": [
    "liste_employes = ['Pierre', 'Paul', 'Jacques']\n",
    "\n",
    "for nom in liste_employes:\n",
    "\tprint(nom)"
   ]
  },
  {
   "cell_type": "code",
   "execution_count": 19,
   "metadata": {},
   "outputs": [
    {
     "name": "stdout",
     "output_type": "stream",
     "text": [
      "le noms =Pierre\n",
      "le noms =Paul\n",
      "le noms =Jacques\n"
     ]
    }
   ],
   "source": [
    "liste_employes = ['Pierre', 'Paul', 'Jacques']\n",
    "\n",
    "for nom in liste_employes:\n",
    "\tprint('le noms ={0}'.format (nom))"
   ]
  },
  {
   "cell_type": "code",
   "execution_count": 20,
   "metadata": {},
   "outputs": [],
   "source": [
    "### trier"
   ]
  },
  {
   "cell_type": "code",
   "execution_count": 21,
   "metadata": {},
   "outputs": [
    {
     "data": {
      "text/plain": [
       "[8, 6, 6, 5, 4, 2, 1]"
      ]
     },
     "execution_count": 21,
     "metadata": {},
     "output_type": "execute_result"
    }
   ],
   "source": [
    "liste = [1, 4, 6, 5, 2, 6, 8]\n",
    "\n",
    "# Trier une liste\n",
    "liste.sort() # Agit directement sur la liste\n",
    "liste_en_ordre = sorted(liste) # La liste d'origine reste inchangée\n",
    "\n",
    "# Trier une liste en sens inverse\n",
    "liste.reverse()\n",
    "liste.sort(reverse=True)\n",
    "sorted(liste, reverse=True) # La liste d'origine reste inchangée"
   ]
  },
  {
   "cell_type": "code",
   "execution_count": 22,
   "metadata": {},
   "outputs": [],
   "source": [
    "#### modifier une liste"
   ]
  },
  {
   "cell_type": "code",
   "execution_count": 24,
   "metadata": {},
   "outputs": [
    {
     "name": "stdout",
     "output_type": "stream",
     "text": [
      "['John', 'Paul']\n"
     ]
    }
   ],
   "source": [
    "liste = ['Pierre', 'Paul']\n",
    "\n",
    "liste[0] = 'John'\n",
    "print(liste)\n"
   ]
  },
  {
   "cell_type": "code",
   "execution_count": 25,
   "metadata": {},
   "outputs": [],
   "source": [
    "#### comprehension"
   ]
  },
  {
   "cell_type": "code",
   "execution_count": 26,
   "metadata": {},
   "outputs": [
    {
     "name": "stdout",
     "output_type": "stream",
     "text": [
      "[1, 2, 3, 4, 5]\n",
      "[2, 4, 6, 8, 10]\n",
      "[2, 4, 6, 8, 10]\n",
      "[2, 4, 6, 8, 10]\n",
      "[-5, -4, -3, -2, -1, 0, 2, 4, 6, 8, 10]\n"
     ]
    }
   ],
   "source": [
    "liste = [1, 2, 3, 4, 5]\n",
    "liste_multipliee_par_deux = []\n",
    "\n",
    "# On itère à travers la liste et on ajoute à la nouvelle liste\n",
    "# les valeurs de la première, multiplié par 2.\n",
    "for i in liste:\n",
    "\tliste_multipliee_par_deux.append(i * 2)\n",
    "\n",
    "print(liste)\n",
    "print(liste_multipliee_par_deux)\n",
    "\n",
    "\n",
    "# La façon en 'Compréhension de liste'\n",
    "liste = [i*2 for i in liste]\n",
    "print(liste)\n",
    "\n",
    "# Avec un if\n",
    "liste = [-5, -4, -3, -2, -1, 0, 1, 2, 3, 4, 5]\n",
    "liste = [i*2 for i in liste if i > 0]\n",
    "print(liste)\n",
    "\n",
    "# Avec un if else\n",
    "liste = [-5, -4, -3, -2, -1, 0, 1, 2, 3, 4, 5]\n",
    "liste = [i*2 if i > 0 else i for i in liste]\n",
    "print(liste)\n"
   ]
  },
  {
   "cell_type": "code",
   "execution_count": null,
   "metadata": {},
   "outputs": [],
   "source": []
  }
 ],
 "metadata": {
  "kernelspec": {
   "display_name": "Python 3",
   "language": "python",
   "name": "python3"
  },
  "language_info": {
   "codemirror_mode": {
    "name": "ipython",
    "version": 3
   },
   "file_extension": ".py",
   "mimetype": "text/x-python",
   "name": "python",
   "nbconvert_exporter": "python",
   "pygments_lexer": "ipython3",
   "version": "3.6.5"
  }
 },
 "nbformat": 4,
 "nbformat_minor": 2
}
