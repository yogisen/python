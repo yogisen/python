{
 "cells": [
  {
   "cell_type": "code",
   "execution_count": null,
   "metadata": {},
   "outputs": [],
   "source": [
    "a = list(range(1,10))\n",
    "\n",
    "while a:\n",
    "    a.pop()\n",
    "    print(a)"
   ]
  },
  {
   "cell_type": "code",
   "execution_count": null,
   "metadata": {},
   "outputs": [],
   "source": [
    "a = list(range(1,10))\n",
    "\n",
    "while a:\n",
    "    a.pop()\n",
    "    if len(a) ==5:\n",
    "        continue\n",
    "    print(a)"
   ]
  },
  {
   "cell_type": "code",
   "execution_count": null,
   "metadata": {},
   "outputs": [],
   "source": [
    "a = list(range(1,10))\n",
    "\n",
    "while a:\n",
    "    a.pop()\n",
    "    if len(a) ==5:\n",
    "        break\n",
    "    print(a)"
   ]
  },
  {
   "cell_type": "code",
   "execution_count": null,
   "metadata": {},
   "outputs": [],
   "source": [
    "while True:\n",
    "    s = input('quelle est votre question ?\\n')\n",
    "    if 'aucune' in s:\n",
    "        break\n",
    "    "
   ]
  },
  {
   "cell_type": "code",
   "execution_count": 1,
   "metadata": {},
   "outputs": [
    {
     "name": "stdout",
     "output_type": "stream",
     "text": [
      "BONJOUR ?\n",
      "bonjour\n",
      "bonjour, comment allez vous\n",
      "bien\n",
      "c'est super !\n",
      "salut\n",
      "mais encore\n",
      "bye\n",
      "aurevoir !\n"
     ]
    }
   ],
   "source": [
    "s = input('BONJOUR ?\\n')\n",
    "while True:\n",
    "  \n",
    "   \n",
    "        \n",
    "    if s.startswith('bonjour'):\n",
    "        print(\"bonjour, comment allez vous\")\n",
    "    elif \"bien\" in s:\n",
    "        print(\"c'est super !\")\n",
    "    elif \"bye\" in s:\n",
    "        print (\"aurevoir !\")\n",
    "        break\n",
    "    else:\n",
    "        print(\"mais encore\")\n",
    "    s = input()\n",
    "    "
   ]
  },
  {
   "cell_type": "code",
   "execution_count": null,
   "metadata": {},
   "outputs": [],
   "source": [
    "\n"
   ]
  },
  {
   "cell_type": "code",
   "execution_count": null,
   "metadata": {},
   "outputs": [],
   "source": []
  },
  {
   "cell_type": "code",
   "execution_count": null,
   "metadata": {},
   "outputs": [],
   "source": []
  }
 ],
 "metadata": {
  "kernelspec": {
   "display_name": "Python 3",
   "language": "python",
   "name": "python3"
  },
  "language_info": {
   "codemirror_mode": {
    "name": "ipython",
    "version": 3
   },
   "file_extension": ".py",
   "mimetype": "text/x-python",
   "name": "python",
   "nbconvert_exporter": "python",
   "pygments_lexer": "ipython3",
   "version": "3.6.5"
  }
 },
 "nbformat": 4,
 "nbformat_minor": 2
}
