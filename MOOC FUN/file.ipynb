{
 "cells": [
  {
   "cell_type": "code",
   "execution_count": 1,
   "metadata": {},
   "outputs": [],
   "source": [
    "f = open(r'c:\\temp\\spam.txt', 'w', encoding='utf8 ')"
   ]
  },
  {
   "cell_type": "code",
   "execution_count": 2,
   "metadata": {},
   "outputs": [],
   "source": [
    "for i in range(10):\n",
    "    f.write(f\"ligne {i+1}\\n\")"
   ]
  },
  {
   "cell_type": "code",
   "execution_count": 3,
   "metadata": {},
   "outputs": [],
   "source": [
    "f.close()"
   ]
  },
  {
   "cell_type": "code",
   "execution_count": 4,
   "metadata": {},
   "outputs": [
    {
     "name": "stdout",
     "output_type": "stream",
     "text": [
      "ligne 1\n",
      "ligne 2\n",
      "ligne 3\n",
      "ligne 4\n",
      "ligne 5\n",
      "ligne 6\n",
      "ligne 7\n",
      "ligne 8\n",
      "ligne 9\n",
      "ligne 10\n"
     ]
    }
   ],
   "source": [
    "!type c:\\temp\\spam.txt"
   ]
  },
  {
   "cell_type": "code",
   "execution_count": 5,
   "metadata": {},
   "outputs": [],
   "source": [
    "f = open(r'c:\\temp\\spam.txt', 'r', encoding='utf8 ')"
   ]
  },
  {
   "cell_type": "code",
   "execution_count": 6,
   "metadata": {},
   "outputs": [],
   "source": [
    "f2 = open(r'c:\\temp\\spam2.txt', 'w', encoding='utf8 ')"
   ]
  },
  {
   "cell_type": "code",
   "execution_count": 7,
   "metadata": {},
   "outputs": [],
   "source": [
    "for line in f:\n",
    "    line = line.split()\n",
    "    line[0] = line[0].upper()\n",
    "    f2.write(\".\".join(line) + \"\\n\")\n",
    "    "
   ]
  },
  {
   "cell_type": "code",
   "execution_count": 8,
   "metadata": {},
   "outputs": [],
   "source": [
    "f.close()"
   ]
  },
  {
   "cell_type": "code",
   "execution_count": 9,
   "metadata": {},
   "outputs": [],
   "source": [
    "f2.close()"
   ]
  },
  {
   "cell_type": "code",
   "execution_count": 10,
   "metadata": {},
   "outputs": [
    {
     "name": "stdout",
     "output_type": "stream",
     "text": [
      "LIGNE.1\n",
      "LIGNE.2\n",
      "LIGNE.3\n",
      "LIGNE.4\n",
      "LIGNE.5\n",
      "LIGNE.6\n",
      "LIGNE.7\n",
      "LIGNE.8\n",
      "LIGNE.9\n",
      "LIGNE.10\n"
     ]
    }
   ],
   "source": [
    "!type c:\\temp\\spam2.txt"
   ]
  },
  {
   "cell_type": "code",
   "execution_count": null,
   "metadata": {},
   "outputs": [],
   "source": []
  }
 ],
 "metadata": {
  "kernelspec": {
   "display_name": "Python 3",
   "language": "python",
   "name": "python3"
  },
  "language_info": {
   "codemirror_mode": {
    "name": "ipython",
    "version": 3
   },
   "file_extension": ".py",
   "mimetype": "text/x-python",
   "name": "python",
   "nbconvert_exporter": "python",
   "pygments_lexer": "ipython3",
   "version": "3.6.5"
  }
 },
 "nbformat": 4,
 "nbformat_minor": 2
}
